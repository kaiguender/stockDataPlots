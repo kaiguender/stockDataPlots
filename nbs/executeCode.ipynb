{
 "cells": [
  {
   "cell_type": "code",
   "execution_count": null,
   "id": "334bedf5-1af3-4b47-a414-a4646e5e8df4",
   "metadata": {},
   "outputs": [],
   "source": [
    "from stockDataPlots.structureData import stockDataPlots\n",
    "import os"
   ]
  },
  {
   "cell_type": "code",
   "execution_count": null,
   "id": "5c28810d-91bd-4d4b-9831-d5b78dfb54b2",
   "metadata": {},
   "outputs": [],
   "source": [
    "path = '/home/kagu/stockDataPlots/data/'"
   ]
  },
  {
   "cell_type": "code",
   "execution_count": null,
   "id": "3e8e7a45-3f33-40b5-8005-6b16a5855377",
   "metadata": {},
   "outputs": [],
   "source": [
    "test = stockDataPlots(ticker = 'HFG.DE')"
   ]
  },
  {
   "cell_type": "code",
   "execution_count": null,
   "id": "bbc61023-c734-435c-bd9f-f78a085e0022",
   "metadata": {},
   "outputs": [],
   "source": [
    "test.getCurrentYahooData()"
   ]
  },
  {
   "cell_type": "code",
   "execution_count": null,
   "id": "eaaa9fa4-29a3-4e97-9129-916f1ba41b61",
   "metadata": {},
   "outputs": [
    {
     "name": "stdout",
     "output_type": "stream",
     "text": [
      "incomeStatement of HFG.DE is already up to date!\n",
      "incomeStatementQuarterly of HFG.DE is already up to date!\n",
      "incomeStatementTTM of HFG.DE is already up to date!\n",
      "balanceSheet of HFG.DE is already up to date!\n",
      "balanceSheetQuarterly of HFG.DE is already up to date!\n",
      "cashflow of HFG.DE is already up to date!\n",
      "cashflowQuarterly of HFG.DE is already up to date!\n",
      "cashflowTTM of HFG.DE is already up to date!\n"
     ]
    }
   ],
   "source": [
    "#| hide\n",
    "test.updateLocalData(path = path)"
   ]
  }
 ],
 "metadata": {
  "kernelspec": {
   "display_name": "HC-Scheduling",
   "language": "python",
   "name": "hc-scheduling"
  }
 },
 "nbformat": 4,
 "nbformat_minor": 5
}
