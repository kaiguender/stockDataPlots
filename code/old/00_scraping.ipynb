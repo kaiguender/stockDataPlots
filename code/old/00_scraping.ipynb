{
 "cells": [
  {
   "cell_type": "markdown",
   "metadata": {},
   "source": [
    "# Scraping\n",
    "\n",
    "> Fill in a module description here"
   ]
  },
  {
   "cell_type": "code",
   "execution_count": null,
   "metadata": {},
   "outputs": [],
   "source": [
    "#| default_exp scraping"
   ]
  },
  {
   "cell_type": "code",
   "execution_count": null,
   "metadata": {},
   "outputs": [],
   "source": [
    "#| hide\n",
    "from nbdev.showdoc import *"
   ]
  },
  {
   "cell_type": "markdown",
   "metadata": {},
   "source": [
    "## Packages"
   ]
  },
  {
   "cell_type": "code",
   "execution_count": 3,
   "metadata": {},
   "outputs": [],
   "source": [
    "import requests\n",
    "import json\n",
    "import re\n",
    "from collections import defaultdict\n",
    "\n",
    "import numpy as np\n",
    "import pandas as pd\n",
    "\n",
    "import ipdb\n",
    "from yfinance import *"
   ]
  },
  {
   "cell_type": "markdown",
   "metadata": {},
   "source": [
    "## Yahoo Finance"
   ]
  },
  {
   "cell_type": "markdown",
   "metadata": {},
   "source": [
    "### Headers"
   ]
  },
  {
   "cell_type": "code",
   "execution_count": 6,
   "metadata": {},
   "outputs": [],
   "source": [
    "my_headers = {'user-agent': 'curl/7.55.1', \n",
    "              'accept': 'application/json', \n",
    "              'content-type': 'application/json',\n",
    "              'referer': 'https://finance.yahoo.com/', \n",
    "              'cache-control': 'no-cache', \n",
    "              'connection': 'close'}"
   ]
  },
  {
   "cell_type": "markdown",
   "metadata": {},
   "source": [
    "### URL 1 - General Financial Data "
   ]
  },
  {
   "cell_type": "code",
   "execution_count": null,
   "metadata": {},
   "outputs": [],
   "source": [
    "url1 = 'https://query2.finance.yahoo.com/v10/finance/quoteSummary/GOOG?formatted=true&crumb=0z/wDTNyxte&lang=en-US&region=US&modules=incomeStatementHistory,cashflowStatementHistory,balanceSheetHistory,incomeStatementHistoryQuarterly,cashflowStatementHistoryQuarterly,balanceSheetHistoryQuarterly&corsDomain=finance.yahoo.com'"
   ]
  },
  {
   "cell_type": "code",
   "execution_count": null,
   "metadata": {},
   "outputs": [],
   "source": [
    "response = requests.get(url1, headers = my_headers)\n",
    "response"
   ]
  },
  {
   "cell_type": "code",
   "execution_count": 31,
   "metadata": {},
   "outputs": [],
   "source": [
    "data = data['quoteSummary']['result'][0]"
   ]
  },
  {
   "cell_type": "code",
   "execution_count": 37,
   "metadata": {},
   "outputs": [],
   "source": [
    "ish = data['incomeStatementHistory']['incomeStatementHistory'][0]"
   ]
  },
  {
   "cell_type": "code",
   "execution_count": 38,
   "metadata": {},
   "outputs": [],
   "source": [
    "date = ish['endDate']['fmt']"
   ]
  },
  {
   "cell_type": "markdown",
   "metadata": {},
   "source": [
    "### URL 2 - Detailled Income Data"
   ]
  },
  {
   "cell_type": "code",
   "execution_count": 4,
   "metadata": {},
   "outputs": [],
   "source": [
    "url2 = 'https://query1.finance.yahoo.com/ws/fundamentals-timeseries/v1/finance/timeseries/GOOG?lang=en-US&region=US&symbol=GOOG&padTimeSeries=true&type=annualTaxEffectOfUnusualItems%2CtrailingTaxEffectOfUnusualItems%2CannualTaxRateForCalcs%2CtrailingTaxRateForCalcs%2CannualNormalizedEBITDA%2CtrailingNormalizedEBITDA%2CannualNormalizedDilutedEPS%2CtrailingNormalizedDilutedEPS%2CannualNormalizedBasicEPS%2CtrailingNormalizedBasicEPS%2CannualTotalUnusualItems%2CtrailingTotalUnusualItems%2CannualTotalUnusualItemsExcludingGoodwill%2CtrailingTotalUnusualItemsExcludingGoodwill%2CannualNetIncomeFromContinuingOperationNetMinorityInterest%2CtrailingNetIncomeFromContinuingOperationNetMinorityInterest%2CannualReconciledDepreciation%2CtrailingReconciledDepreciation%2CannualReconciledCostOfRevenue%2CtrailingReconciledCostOfRevenue%2CannualEBITDA%2CtrailingEBITDA%2CannualEBIT%2CtrailingEBIT%2CannualNetInterestIncome%2CtrailingNetInterestIncome%2CannualInterestExpense%2CtrailingInterestExpense%2CannualInterestIncome%2CtrailingInterestIncome%2CannualContinuingAndDiscontinuedDilutedEPS%2CtrailingContinuingAndDiscontinuedDilutedEPS%2CannualContinuingAndDiscontinuedBasicEPS%2CtrailingContinuingAndDiscontinuedBasicEPS%2CannualNormalizedIncome%2CtrailingNormalizedIncome%2CannualNetIncomeFromContinuingAndDiscontinuedOperation%2CtrailingNetIncomeFromContinuingAndDiscontinuedOperation%2CannualTotalExpenses%2CtrailingTotalExpenses%2CannualRentExpenseSupplemental%2CtrailingRentExpenseSupplemental%2CannualReportedNormalizedDilutedEPS%2CtrailingReportedNormalizedDilutedEPS%2CannualReportedNormalizedBasicEPS%2CtrailingReportedNormalizedBasicEPS%2CannualTotalOperatingIncomeAsReported%2CtrailingTotalOperatingIncomeAsReported%2CannualDividendPerShare%2CtrailingDividendPerShare%2CannualDilutedAverageShares%2CtrailingDilutedAverageShares%2CannualBasicAverageShares%2CtrailingBasicAverageShares%2CannualDilutedEPS%2CtrailingDilutedEPS%2CannualDilutedEPSOtherGainsLosses%2CtrailingDilutedEPSOtherGainsLosses%2CannualTaxLossCarryforwardDilutedEPS%2CtrailingTaxLossCarryforwardDilutedEPS%2CannualDilutedAccountingChange%2CtrailingDilutedAccountingChange%2CannualDilutedExtraordinary%2CtrailingDilutedExtraordinary%2CannualDilutedDiscontinuousOperations%2CtrailingDilutedDiscontinuousOperations%2CannualDilutedContinuousOperations%2CtrailingDilutedContinuousOperations%2CannualBasicEPS%2CtrailingBasicEPS%2CannualBasicEPSOtherGainsLosses%2CtrailingBasicEPSOtherGainsLosses%2CannualTaxLossCarryforwardBasicEPS%2CtrailingTaxLossCarryforwardBasicEPS%2CannualBasicAccountingChange%2CtrailingBasicAccountingChange%2CannualBasicExtraordinary%2CtrailingBasicExtraordinary%2CannualBasicDiscontinuousOperations%2CtrailingBasicDiscontinuousOperations%2CannualBasicContinuousOperations%2CtrailingBasicContinuousOperations%2CannualDilutedNIAvailtoComStockholders%2CtrailingDilutedNIAvailtoComStockholders%2CannualAverageDilutionEarnings%2CtrailingAverageDilutionEarnings%2CannualNetIncomeCommonStockholders%2CtrailingNetIncomeCommonStockholders%2CannualOtherunderPreferredStockDividend%2CtrailingOtherunderPreferredStockDividend%2CannualPreferredStockDividends%2CtrailingPreferredStockDividends%2CannualNetIncome%2CtrailingNetIncome%2CannualMinorityInterests%2CtrailingMinorityInterests%2CannualNetIncomeIncludingNoncontrollingInterests%2CtrailingNetIncomeIncludingNoncontrollingInterests%2CannualNetIncomeFromTaxLossCarryforward%2CtrailingNetIncomeFromTaxLossCarryforward%2CannualNetIncomeExtraordinary%2CtrailingNetIncomeExtraordinary%2CannualNetIncomeDiscontinuousOperations%2CtrailingNetIncomeDiscontinuousOperations%2CannualNetIncomeContinuousOperations%2CtrailingNetIncomeContinuousOperations%2CannualEarningsFromEquityInterestNetOfTax%2CtrailingEarningsFromEquityInterestNetOfTax%2CannualTaxProvision%2CtrailingTaxProvision%2CannualPretaxIncome%2CtrailingPretaxIncome%2CannualOtherIncomeExpense%2CtrailingOtherIncomeExpense%2CannualOtherNonOperatingIncomeExpenses%2CtrailingOtherNonOperatingIncomeExpenses%2CannualSpecialIncomeCharges%2CtrailingSpecialIncomeCharges%2CannualGainOnSaleOfPPE%2CtrailingGainOnSaleOfPPE%2CannualGainOnSaleOfBusiness%2CtrailingGainOnSaleOfBusiness%2CannualOtherSpecialCharges%2CtrailingOtherSpecialCharges%2CannualWriteOff%2CtrailingWriteOff%2CannualImpairmentOfCapitalAssets%2CtrailingImpairmentOfCapitalAssets%2CannualRestructuringAndMergernAcquisition%2CtrailingRestructuringAndMergernAcquisition%2CannualSecuritiesAmortization%2CtrailingSecuritiesAmortization%2CannualEarningsFromEquityInterest%2CtrailingEarningsFromEquityInterest%2CannualGainOnSaleOfSecurity%2CtrailingGainOnSaleOfSecurity%2CannualNetNonOperatingInterestIncomeExpense%2CtrailingNetNonOperatingInterestIncomeExpense%2CannualTotalOtherFinanceCost%2CtrailingTotalOtherFinanceCost%2CannualInterestExpenseNonOperating%2CtrailingInterestExpenseNonOperating%2CannualInterestIncomeNonOperating%2CtrailingInterestIncomeNonOperating%2CannualOperatingIncome%2CtrailingOperatingIncome%2CannualOperatingExpense%2CtrailingOperatingExpense%2CannualOtherOperatingExpenses%2CtrailingOtherOperatingExpenses%2CannualOtherTaxes%2CtrailingOtherTaxes%2CannualProvisionForDoubtfulAccounts%2CtrailingProvisionForDoubtfulAccounts%2CannualDepreciationAmortizationDepletionIncomeStatement%2CtrailingDepreciationAmortizationDepletionIncomeStatement%2CannualDepletionIncomeStatement%2CtrailingDepletionIncomeStatement%2CannualDepreciationAndAmortizationInIncomeStatement%2CtrailingDepreciationAndAmortizationInIncomeStatement%2CannualAmortization%2CtrailingAmortization%2CannualAmortizationOfIntangiblesIncomeStatement%2CtrailingAmortizationOfIntangiblesIncomeStatement%2CannualDepreciationIncomeStatement%2CtrailingDepreciationIncomeStatement%2CannualResearchAndDevelopment%2CtrailingResearchAndDevelopment%2CannualSellingGeneralAndAdministration%2CtrailingSellingGeneralAndAdministration%2CannualSellingAndMarketingExpense%2CtrailingSellingAndMarketingExpense%2CannualGeneralAndAdministrativeExpense%2CtrailingGeneralAndAdministrativeExpense%2CannualOtherGandA%2CtrailingOtherGandA%2CannualInsuranceAndClaims%2CtrailingInsuranceAndClaims%2CannualRentAndLandingFees%2CtrailingRentAndLandingFees%2CannualSalariesAndWages%2CtrailingSalariesAndWages%2CannualGrossProfit%2CtrailingGrossProfit%2CannualCostOfRevenue%2CtrailingCostOfRevenue%2CannualTotalRevenue%2CtrailingTotalRevenue%2CannualExciseTaxes%2CtrailingExciseTaxes%2CannualOperatingRevenue%2CtrailingOperatingRevenue&merge=false&period1=493590046&period2=1665835809&corsDomain=finance.yahoo.com'"
   ]
  },
  {
   "cell_type": "code",
   "execution_count": 7,
   "metadata": {},
   "outputs": [
    {
     "data": {
      "text/plain": [
       "<Response [200]>"
      ]
     },
     "execution_count": 7,
     "metadata": {},
     "output_type": "execute_result"
    }
   ],
   "source": [
    "response = requests.get(url2, headers = my_headers)\n",
    "response"
   ]
  },
  {
   "cell_type": "code",
   "execution_count": 8,
   "metadata": {},
   "outputs": [],
   "source": [
    "data = json.loads(response.text)"
   ]
  },
  {
   "cell_type": "code",
   "execution_count": 9,
   "metadata": {},
   "outputs": [],
   "source": [
    "data = data['timeseries']['result']"
   ]
  },
  {
   "cell_type": "code",
   "execution_count": 10,
   "metadata": {},
   "outputs": [],
   "source": [
    "dataAnnualDict = dict()\n",
    "dataTTMDict = dict()\n",
    "dataNoneDict = dict()\n",
    "\n",
    "for dataKPI in data:\n",
    "\n",
    "    try:\n",
    "        type = dataKPI['meta']['type'][0]\n",
    "        dataKPI = dataKPI[type]\n",
    "        \n",
    "        dataKPIDict = defaultdict(list)\n",
    "        date = list()\n",
    "        \n",
    "        for dataKPI_date in dataKPI:\n",
    "            dataKPIDict[type].append(dataKPI_date['reportedValue']['raw'])\n",
    "            date.append(dataKPI_date['asOfDate'])\n",
    "        \n",
    "        if dataKPI[0]['periodType'] == '12M':\n",
    "            dataAnnualDict[type] = {'df': pd.DataFrame(dataKPIDict),\n",
    "                                    'date': pd.Series(date)}\n",
    "            \n",
    "        elif dataKPI[0]['periodType'] == 'TTM':\n",
    "            dataTTMDict[type] = {'df': pd.DataFrame(dataKPIDict),\n",
    "                                 'date': pd.Series(date)}\n",
    "        \n",
    "    except:\n",
    "        dataNoneDict[type] = None"
   ]
  },
  {
   "cell_type": "markdown",
   "metadata": {
    "tags": []
   },
   "source": [
    "#### Data Annual"
   ]
  },
  {
   "cell_type": "code",
   "execution_count": 269,
   "metadata": {},
   "outputs": [],
   "source": [
    "dataAnnual = pd.concat([dataKPI['df'] for dataKPI in dataAnnualDict.values()], axis = 1)"
   ]
  },
  {
   "cell_type": "code",
   "execution_count": 272,
   "metadata": {},
   "outputs": [],
   "source": [
    "keys = list(dataAnnualDict.keys())\n",
    "date = dataAnnualDict[keys[0]]['date']\n",
    "date.name = 'date'\n",
    "\n",
    "dataAnnual = pd.concat([date, dataAnnual], axis = 1)"
   ]
  },
  {
   "cell_type": "code",
   "execution_count": 273,
   "metadata": {},
   "outputs": [
    {
     "data": {
      "text/html": [
       "<div>\n",
       "<style scoped>\n",
       "    .dataframe tbody tr th:only-of-type {\n",
       "        vertical-align: middle;\n",
       "    }\n",
       "\n",
       "    .dataframe tbody tr th {\n",
       "        vertical-align: top;\n",
       "    }\n",
       "\n",
       "    .dataframe thead th {\n",
       "        text-align: right;\n",
       "    }\n",
       "</style>\n",
       "<table border=\"1\" class=\"dataframe\">\n",
       "  <thead>\n",
       "    <tr style=\"text-align: right;\">\n",
       "      <th></th>\n",
       "      <th>date</th>\n",
       "      <th>annualOtherIncomeExpense</th>\n",
       "      <th>annualGrossProfit</th>\n",
       "      <th>annualResearchAndDevelopment</th>\n",
       "      <th>annualNormalizedIncome</th>\n",
       "      <th>annualSellingAndMarketingExpense</th>\n",
       "      <th>annualGainOnSaleOfSecurity</th>\n",
       "      <th>annualInterestExpenseNonOperating</th>\n",
       "      <th>annualNetNonOperatingInterestIncomeExpense</th>\n",
       "      <th>annualReconciledCostOfRevenue</th>\n",
       "      <th>...</th>\n",
       "      <th>annualSpecialIncomeCharges</th>\n",
       "      <th>annualNetIncomeIncludingNoncontrollingInterests</th>\n",
       "      <th>annualTaxProvision</th>\n",
       "      <th>annualNetIncomeCommonStockholders</th>\n",
       "      <th>annualInterestExpense</th>\n",
       "      <th>annualReconciledDepreciation</th>\n",
       "      <th>annualTotalRevenue</th>\n",
       "      <th>annualBasicEPS</th>\n",
       "      <th>annualTaxRateForCalcs</th>\n",
       "      <th>annualNetIncomeFromContinuingOperationNetMinorityInterest</th>\n",
       "    </tr>\n",
       "  </thead>\n",
       "  <tbody>\n",
       "    <tr>\n",
       "      <th>0</th>\n",
       "      <td>2018-12-31</td>\n",
       "      <td>1.757000e+09</td>\n",
       "      <td>7.727000e+10</td>\n",
       "      <td>2.141900e+10</td>\n",
       "      <td>2.941688e+10</td>\n",
       "      <td>1.633300e+10</td>\n",
       "      <td>6.570000e+09</td>\n",
       "      <td>114000000.0</td>\n",
       "      <td>1.764000e+09</td>\n",
       "      <td>5.954900e+10</td>\n",
       "      <td>...</td>\n",
       "      <td>-5.071000e+09</td>\n",
       "      <td>3.073600e+10</td>\n",
       "      <td>4.177000e+09</td>\n",
       "      <td>3.073600e+10</td>\n",
       "      <td>114000000.0</td>\n",
       "      <td>9.035000e+09</td>\n",
       "      <td>1.368190e+11</td>\n",
       "      <td>2.211001</td>\n",
       "      <td>0.120</td>\n",
       "      <td>3.073600e+10</td>\n",
       "    </tr>\n",
       "    <tr>\n",
       "      <th>1</th>\n",
       "      <td>2019-12-31</td>\n",
       "      <td>1.370000e+09</td>\n",
       "      <td>8.996100e+10</td>\n",
       "      <td>2.601800e+10</td>\n",
       "      <td>3.329913e+10</td>\n",
       "      <td>1.846400e+10</td>\n",
       "      <td>2.901000e+09</td>\n",
       "      <td>100000000.0</td>\n",
       "      <td>2.327000e+09</td>\n",
       "      <td>7.189600e+10</td>\n",
       "      <td>...</td>\n",
       "      <td>-1.697000e+09</td>\n",
       "      <td>3.434300e+10</td>\n",
       "      <td>5.282000e+09</td>\n",
       "      <td>3.434300e+10</td>\n",
       "      <td>100000000.0</td>\n",
       "      <td>1.178100e+10</td>\n",
       "      <td>1.618570e+11</td>\n",
       "      <td>2.479501</td>\n",
       "      <td>0.133</td>\n",
       "      <td>3.434300e+10</td>\n",
       "    </tr>\n",
       "    <tr>\n",
       "      <th>2</th>\n",
       "      <td>2020-12-31</td>\n",
       "      <td>5.128000e+09</td>\n",
       "      <td>9.779500e+10</td>\n",
       "      <td>2.757300e+10</td>\n",
       "      <td>3.526363e+10</td>\n",
       "      <td>1.794600e+10</td>\n",
       "      <td>5.973000e+09</td>\n",
       "      <td>135000000.0</td>\n",
       "      <td>1.730000e+09</td>\n",
       "      <td>8.473200e+10</td>\n",
       "      <td>...</td>\n",
       "      <td>0.000000e+00</td>\n",
       "      <td>4.026900e+10</td>\n",
       "      <td>7.813000e+09</td>\n",
       "      <td>4.026900e+10</td>\n",
       "      <td>135000000.0</td>\n",
       "      <td>1.369700e+10</td>\n",
       "      <td>1.825270e+11</td>\n",
       "      <td>2.957501</td>\n",
       "      <td>0.162</td>\n",
       "      <td>4.026900e+10</td>\n",
       "    </tr>\n",
       "    <tr>\n",
       "      <th>3</th>\n",
       "      <td>2021-12-31</td>\n",
       "      <td>1.086700e+10</td>\n",
       "      <td>1.466980e+11</td>\n",
       "      <td>3.156200e+10</td>\n",
       "      <td>6.595186e+10</td>\n",
       "      <td>2.291200e+10</td>\n",
       "      <td>1.203000e+10</td>\n",
       "      <td>346000000.0</td>\n",
       "      <td>1.153000e+09</td>\n",
       "      <td>1.109390e+11</td>\n",
       "      <td>...</td>\n",
       "      <td>0.000000e+00</td>\n",
       "      <td>7.603300e+10</td>\n",
       "      <td>1.470100e+10</td>\n",
       "      <td>7.603300e+10</td>\n",
       "      <td>346000000.0</td>\n",
       "      <td>1.244100e+10</td>\n",
       "      <td>2.576370e+11</td>\n",
       "      <td>5.694003</td>\n",
       "      <td>0.162</td>\n",
       "      <td>7.603300e+10</td>\n",
       "    </tr>\n",
       "  </tbody>\n",
       "</table>\n",
       "<p>4 rows × 47 columns</p>\n",
       "</div>"
      ],
      "text/plain": [
       "         date  annualOtherIncomeExpense  annualGrossProfit  \\\n",
       "0  2018-12-31              1.757000e+09       7.727000e+10   \n",
       "1  2019-12-31              1.370000e+09       8.996100e+10   \n",
       "2  2020-12-31              5.128000e+09       9.779500e+10   \n",
       "3  2021-12-31              1.086700e+10       1.466980e+11   \n",
       "\n",
       "   annualResearchAndDevelopment  annualNormalizedIncome  \\\n",
       "0                  2.141900e+10            2.941688e+10   \n",
       "1                  2.601800e+10            3.329913e+10   \n",
       "2                  2.757300e+10            3.526363e+10   \n",
       "3                  3.156200e+10            6.595186e+10   \n",
       "\n",
       "   annualSellingAndMarketingExpense  annualGainOnSaleOfSecurity  \\\n",
       "0                      1.633300e+10                6.570000e+09   \n",
       "1                      1.846400e+10                2.901000e+09   \n",
       "2                      1.794600e+10                5.973000e+09   \n",
       "3                      2.291200e+10                1.203000e+10   \n",
       "\n",
       "   annualInterestExpenseNonOperating  \\\n",
       "0                        114000000.0   \n",
       "1                        100000000.0   \n",
       "2                        135000000.0   \n",
       "3                        346000000.0   \n",
       "\n",
       "   annualNetNonOperatingInterestIncomeExpense  annualReconciledCostOfRevenue  \\\n",
       "0                                1.764000e+09                   5.954900e+10   \n",
       "1                                2.327000e+09                   7.189600e+10   \n",
       "2                                1.730000e+09                   8.473200e+10   \n",
       "3                                1.153000e+09                   1.109390e+11   \n",
       "\n",
       "   ...  annualSpecialIncomeCharges  \\\n",
       "0  ...               -5.071000e+09   \n",
       "1  ...               -1.697000e+09   \n",
       "2  ...                0.000000e+00   \n",
       "3  ...                0.000000e+00   \n",
       "\n",
       "   annualNetIncomeIncludingNoncontrollingInterests  annualTaxProvision  \\\n",
       "0                                     3.073600e+10        4.177000e+09   \n",
       "1                                     3.434300e+10        5.282000e+09   \n",
       "2                                     4.026900e+10        7.813000e+09   \n",
       "3                                     7.603300e+10        1.470100e+10   \n",
       "\n",
       "   annualNetIncomeCommonStockholders  annualInterestExpense  \\\n",
       "0                       3.073600e+10            114000000.0   \n",
       "1                       3.434300e+10            100000000.0   \n",
       "2                       4.026900e+10            135000000.0   \n",
       "3                       7.603300e+10            346000000.0   \n",
       "\n",
       "   annualReconciledDepreciation  annualTotalRevenue  annualBasicEPS  \\\n",
       "0                  9.035000e+09        1.368190e+11        2.211001   \n",
       "1                  1.178100e+10        1.618570e+11        2.479501   \n",
       "2                  1.369700e+10        1.825270e+11        2.957501   \n",
       "3                  1.244100e+10        2.576370e+11        5.694003   \n",
       "\n",
       "   annualTaxRateForCalcs  \\\n",
       "0                  0.120   \n",
       "1                  0.133   \n",
       "2                  0.162   \n",
       "3                  0.162   \n",
       "\n",
       "   annualNetIncomeFromContinuingOperationNetMinorityInterest  \n",
       "0                                       3.073600e+10          \n",
       "1                                       3.434300e+10          \n",
       "2                                       4.026900e+10          \n",
       "3                                       7.603300e+10          \n",
       "\n",
       "[4 rows x 47 columns]"
      ]
     },
     "execution_count": 273,
     "metadata": {},
     "output_type": "execute_result"
    }
   ],
   "source": [
    "dataAnnual"
   ]
  },
  {
   "cell_type": "markdown",
   "metadata": {},
   "source": [
    "#### Data TTM"
   ]
  },
  {
   "cell_type": "code",
   "execution_count": 274,
   "metadata": {},
   "outputs": [],
   "source": [
    "dataTTM = pd.concat([dataKPI['df'] for dataKPI in dataTTMDict.values()], axis = 1)"
   ]
  },
  {
   "cell_type": "code",
   "execution_count": 275,
   "metadata": {},
   "outputs": [],
   "source": [
    "keys = list(dataTTMDict.keys())\n",
    "date = dataTTMDict[keys[0]]['date']\n",
    "date.name = 'date'\n",
    "\n",
    "dataTTM = pd.concat([date, dataTTM], axis = 1)"
   ]
  },
  {
   "cell_type": "code",
   "execution_count": 276,
   "metadata": {},
   "outputs": [
    {
     "data": {
      "text/html": [
       "<div>\n",
       "<style scoped>\n",
       "    .dataframe tbody tr th:only-of-type {\n",
       "        vertical-align: middle;\n",
       "    }\n",
       "\n",
       "    .dataframe tbody tr th {\n",
       "        vertical-align: top;\n",
       "    }\n",
       "\n",
       "    .dataframe thead th {\n",
       "        text-align: right;\n",
       "    }\n",
       "</style>\n",
       "<table border=\"1\" class=\"dataframe\">\n",
       "  <thead>\n",
       "    <tr style=\"text-align: right;\">\n",
       "      <th></th>\n",
       "      <th>date</th>\n",
       "      <th>trailingNormalizedIncome</th>\n",
       "      <th>trailingGrossProfit</th>\n",
       "      <th>trailingSellingAndMarketingExpense</th>\n",
       "      <th>trailingGainOnSaleOfSecurity</th>\n",
       "      <th>trailingOtherGandA</th>\n",
       "      <th>trailingCostOfRevenue</th>\n",
       "      <th>trailingTotalRevenue</th>\n",
       "      <th>trailingNetIncome</th>\n",
       "      <th>trailingTaxProvision</th>\n",
       "      <th>...</th>\n",
       "      <th>trailingTaxRateForCalcs</th>\n",
       "      <th>trailingNetIncomeCommonStockholders</th>\n",
       "      <th>trailingDilutedNIAvailtoComStockholders</th>\n",
       "      <th>trailingTaxEffectOfUnusualItems</th>\n",
       "      <th>trailingTotalOperatingIncomeAsReported</th>\n",
       "      <th>trailingOperatingRevenue</th>\n",
       "      <th>trailingResearchAndDevelopment</th>\n",
       "      <th>trailingEBITDA</th>\n",
       "      <th>trailingNetNonOperatingInterestIncomeExpense</th>\n",
       "      <th>trailingInterestIncome</th>\n",
       "    </tr>\n",
       "  </thead>\n",
       "  <tbody>\n",
       "    <tr>\n",
       "      <th>0</th>\n",
       "      <td>2022-06-30</td>\n",
       "      <td>7.073190e+10</td>\n",
       "      <td>1.578270e+11</td>\n",
       "      <td>2.557500e+10</td>\n",
       "      <td>1.523000e+09</td>\n",
       "      <td>1.442700e+10</td>\n",
       "      <td>1.203120e+11</td>\n",
       "      <td>2.781390e+11</td>\n",
       "      <td>7.201600e+10</td>\n",
       "      <td>1.339800e+10</td>\n",
       "      <td>...</td>\n",
       "      <td>0.15686</td>\n",
       "      <td>7.201600e+10</td>\n",
       "      <td>7.173600e+10</td>\n",
       "      <td>2.388971e+08</td>\n",
       "      <td>8.246300e+10</td>\n",
       "      <td>2.781390e+11</td>\n",
       "      <td>3.536200e+10</td>\n",
       "      <td>1.001980e+11</td>\n",
       "      <td>1.305000e+09</td>\n",
       "      <td>1.665000e+09</td>\n",
       "    </tr>\n",
       "  </tbody>\n",
       "</table>\n",
       "<p>1 rows × 43 columns</p>\n",
       "</div>"
      ],
      "text/plain": [
       "         date  trailingNormalizedIncome  trailingGrossProfit  \\\n",
       "0  2022-06-30              7.073190e+10         1.578270e+11   \n",
       "\n",
       "   trailingSellingAndMarketingExpense  trailingGainOnSaleOfSecurity  \\\n",
       "0                        2.557500e+10                  1.523000e+09   \n",
       "\n",
       "   trailingOtherGandA  trailingCostOfRevenue  trailingTotalRevenue  \\\n",
       "0        1.442700e+10           1.203120e+11          2.781390e+11   \n",
       "\n",
       "   trailingNetIncome  trailingTaxProvision  ...  trailingTaxRateForCalcs  \\\n",
       "0       7.201600e+10          1.339800e+10  ...                  0.15686   \n",
       "\n",
       "   trailingNetIncomeCommonStockholders  \\\n",
       "0                         7.201600e+10   \n",
       "\n",
       "   trailingDilutedNIAvailtoComStockholders  trailingTaxEffectOfUnusualItems  \\\n",
       "0                             7.173600e+10                     2.388971e+08   \n",
       "\n",
       "   trailingTotalOperatingIncomeAsReported  trailingOperatingRevenue  \\\n",
       "0                            8.246300e+10              2.781390e+11   \n",
       "\n",
       "   trailingResearchAndDevelopment  trailingEBITDA  \\\n",
       "0                    3.536200e+10    1.001980e+11   \n",
       "\n",
       "   trailingNetNonOperatingInterestIncomeExpense  trailingInterestIncome  \n",
       "0                                  1.305000e+09            1.665000e+09  \n",
       "\n",
       "[1 rows x 43 columns]"
      ]
     },
     "execution_count": 276,
     "metadata": {},
     "output_type": "execute_result"
    }
   ],
   "source": [
    "dataTTM"
   ]
  },
  {
   "cell_type": "code",
   "execution_count": null,
   "metadata": {},
   "outputs": [],
   "source": [
    "#| hide\n",
    "import nbdev; nbdev.nbdev_export()"
   ]
  }
 ],
 "metadata": {
  "kernelspec": {
   "display_name": "HC-Scheduling",
   "language": "python",
   "name": "hc-scheduling"
  },
  "language_info": {
   "codemirror_mode": {
    "name": "ipython",
    "version": 3
   },
   "file_extension": ".py",
   "mimetype": "text/x-python",
   "name": "python",
   "nbconvert_exporter": "python",
   "pygments_lexer": "ipython3",
   "version": "3.8.13"
  }
 },
 "nbformat": 4,
 "nbformat_minor": 4
}
